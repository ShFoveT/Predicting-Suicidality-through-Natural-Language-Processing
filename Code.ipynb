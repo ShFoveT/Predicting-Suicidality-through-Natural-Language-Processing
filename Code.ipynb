{
 "cells": [
  {
   "cell_type": "code",
   "execution_count": 1,
   "id": "630d91ad",
   "metadata": {
    "scrolled": false
   },
   "outputs": [
    {
     "name": "stderr",
     "output_type": "stream",
     "text": [
      "[nltk_data] Downloading package stopwords to\n",
      "[nltk_data]     /Users/shfovt/nltk_data...\n",
      "[nltk_data]   Package stopwords is already up-to-date!\n",
      "[nltk_data] Downloading package punkt to /Users/shfovt/nltk_data...\n",
      "[nltk_data]   Package punkt is already up-to-date!\n",
      "[nltk_data] Downloading package wordnet to /Users/shfovt/nltk_data...\n",
      "[nltk_data]   Package wordnet is already up-to-date!\n",
      "[nltk_data] Downloading package omw-1.4 to /Users/shfovt/nltk_data...\n",
      "[nltk_data]   Package omw-1.4 is already up-to-date!\n"
     ]
    },
    {
     "data": {
      "text/plain": [
       "True"
      ]
     },
     "execution_count": 1,
     "metadata": {},
     "output_type": "execute_result"
    }
   ],
   "source": [
    "from sklearn.model_selection import train_test_split\n",
    "from sklearn.feature_extraction.text import TfidfVectorizer\n",
    "from sklearn.naive_bayes import MultinomialNB\n",
    "from sklearn.metrics import accuracy_score, classification_report\n",
    "from sklearn.ensemble import RandomForestClassifier\n",
    "from sklearn.neural_network import MLPClassifier\n",
    "from sklearn.metrics import confusion_matrix\n",
    "from sklearn.decomposition import PCA\n",
    "from sklearn.decomposition import TruncatedSVD\n",
    "from sklearn.preprocessing import normalize\n",
    "import xgboost as xgb\n",
    "import seaborn as sns\n",
    "from nltk.stem import WordNetLemmatizer\n",
    "from nltk.corpus import stopwords\n",
    "from nltk.tokenize import word_tokenize\n",
    "import nltk\n",
    "import pandas as pd\n",
    "import numpy as np\n",
    "import matplotlib.pyplot as plt\n",
    "import re\n",
    "from textblob import TextBlob\n",
    "from unidecode import unidecode\n",
    "from statsmodels.stats.weightstats import ztest\n",
    "from gensim import corpora\n",
    "from gensim.models import LdaModel\n",
    "\n",
    "nltk.download('stopwords')\n",
    "nltk.download('punkt')\n",
    "nltk.download('wordnet')\n",
    "nltk.download('omw-1.4')"
   ]
  },
  {
   "cell_type": "code",
   "execution_count": 2,
   "id": "4bea6e41",
   "metadata": {},
   "outputs": [
    {
     "data": {
      "text/html": [
       "<div>\n",
       "<style scoped>\n",
       "    .dataframe tbody tr th:only-of-type {\n",
       "        vertical-align: middle;\n",
       "    }\n",
       "\n",
       "    .dataframe tbody tr th {\n",
       "        vertical-align: top;\n",
       "    }\n",
       "\n",
       "    .dataframe thead th {\n",
       "        text-align: right;\n",
       "    }\n",
       "</style>\n",
       "<table border=\"1\" class=\"dataframe\">\n",
       "  <thead>\n",
       "    <tr style=\"text-align: right;\">\n",
       "      <th></th>\n",
       "      <th>text</th>\n",
       "      <th>class</th>\n",
       "    </tr>\n",
       "  </thead>\n",
       "  <tbody>\n",
       "    <tr>\n",
       "      <th>24765</th>\n",
       "      <td>ANYBODY WHO CAN PHOTO SHOP(simply cropping out...</td>\n",
       "      <td>non-suicide</td>\n",
       "    </tr>\n",
       "    <tr>\n",
       "      <th>20560</th>\n",
       "      <td>question to my fellow asian-americans &amp;amp; fi...</td>\n",
       "      <td>non-suicide</td>\n",
       "    </tr>\n",
       "    <tr>\n",
       "      <th>154132</th>\n",
       "      <td>Merry Christmas &amp;lt;3</td>\n",
       "      <td>non-suicide</td>\n",
       "    </tr>\n",
       "    <tr>\n",
       "      <th>99151</th>\n",
       "      <td>I'm probably gonna end it soon.I've posted her...</td>\n",
       "      <td>suicide</td>\n",
       "    </tr>\n",
       "    <tr>\n",
       "      <th>210422</th>\n",
       "      <td>Waking Up, Back to Sleep  I've been dealing wi...</td>\n",
       "      <td>suicide</td>\n",
       "    </tr>\n",
       "  </tbody>\n",
       "</table>\n",
       "</div>"
      ],
      "text/plain": [
       "                                                     text        class\n",
       "24765   ANYBODY WHO CAN PHOTO SHOP(simply cropping out...  non-suicide\n",
       "20560   question to my fellow asian-americans &amp; fi...  non-suicide\n",
       "154132                              Merry Christmas &lt;3  non-suicide\n",
       "99151   I'm probably gonna end it soon.I've posted her...      suicide\n",
       "210422  Waking Up, Back to Sleep  I've been dealing wi...      suicide"
      ]
     },
     "execution_count": 2,
     "metadata": {},
     "output_type": "execute_result"
    }
   ],
   "source": [
    "## Import the data\n",
    "data = pd.read_csv('Suicide_Detection.csv').drop('Unnamed: 0', axis = 1)\n",
    "\n",
    "# Sample data for computation purpose\n",
    "data = data.sample(5000, random_state= 10)\n",
    "data.head()"
   ]
  },
  {
   "cell_type": "markdown",
   "id": "a62f976d",
   "metadata": {},
   "source": [
    "## 1. Exploratory Data Analysis"
   ]
  },
  {
   "cell_type": "markdown",
   "id": "d53d3ced",
   "metadata": {},
   "source": [
    "<h4> Suicide and non-sucicide observations are equally distributed in the dataset </h4>"
   ]
  },
  {
   "cell_type": "code",
   "execution_count": 3,
   "id": "79b0f6a0",
   "metadata": {
    "scrolled": true
   },
   "outputs": [
    {
     "data": {
      "image/png": "[encoded data removed]",
      "text/plain": [
       "<Figure size 432x288 with 1 Axes>"
      ]
     },
     "metadata": {
      "needs_background": "light"
     },
     "output_type": "display_data"
    }
   ],
   "source": [
    "data['class'].value_counts().plot.bar(fontsize = 13)\n",
    "plt.xticks(rotation = 360)\n",
    "plt.title('Suicide & Non-suicide Count', fontsize = 14)\n",
    "plt.show()"
   ]
  },
  {
   "cell_type": "markdown",
   "id": "8eeac5cf",
   "metadata": {},
   "source": [
    "<h4> Suicide posts seem to have larger word count than non-suicide posts </h4>"
   ]
  },
  {
   "cell_type": "code",
   "execution_count": 4,
   "id": "caaa022a",
   "metadata": {},
   "outputs": [
    {
     "data": {
      "image/png": "[encoded data removed]",
      "text/plain": [
       "<Figure size 432x288 with 1 Axes>"
      ]
     },
     "metadata": {
      "needs_background": "light"
     },
     "output_type": "display_data"
    }
   ],
   "source": [
    "# Count word in each post\n",
    "data['word count'] = data['text'].apply(lambda x: len(word_tokenize(x)))\n",
    "\n",
    "plt.rcParams.update({'font.size': 13})\n",
    "plt.hist(data.loc[data['class'] == 'suicide', 'word count'], bins = 50, alpha = 0.8)\n",
    "plt.hist(data.loc[data['class'] == 'non-suicide', 'word count'], bins = 50, alpha = 0.8)\n",
    "plt.legend(['suicide', 'non-suicide'])\n",
    "plt.yscale('log')\n",
    "plt.title('Distribution of Post Word Count (log)')\n",
    "plt.show()"
   ]
  },
  {
   "cell_type": "markdown",
   "id": "61a49bc0",
   "metadata": {},
   "source": [
    "## 2. Data Transformation"
   ]
  },
  {
   "cell_type": "code",
   "execution_count": 5,
   "id": "2f2b27e1",
   "metadata": {
    "scrolled": true
   },
   "outputs": [],
   "source": [
    "Y = data['class'].map({'non-suicide': 0, 'suicide': 1})\n",
    "posts = data['text'].to_list()"
   ]
  },
  {
   "cell_type": "code",
   "execution_count": 6,
   "id": "17a200f2",
   "metadata": {},
   "outputs": [],
   "source": [
    "# # Locate repetitive letters in the posts (those words usually represent emotion)\n",
    "# pattern = re.compile(r'(.)\\1\\1+')\n",
    "# # matches = pattern.(' '.join(extended_df.columns.values))\n",
    "\n",
    "# re.sub(r'(.)\\1\\1+', '.',' '.join(extended_df.columns.values))"
   ]
  },
  {
   "cell_type": "code",
   "execution_count": 7,
   "id": "6bce6645",
   "metadata": {},
   "outputs": [],
   "source": [
    "# Word Tokenization\n",
    "stop_words = set(stopwords.words('english'))\n",
    "\n",
    "def preprocess_text(text):\n",
    "    # Tokenize the text & Remove unicode of the text\n",
    "    tokens = word_tokenize(unidecode(text.lower()))\n",
    "\n",
    "    # Remove stopwords\n",
    "    stop_words = set(stopwords.words('english'))\n",
    "    filtered_tokens = [word for word in tokens if word not in stop_words and word.isalpha()]\n",
    "\n",
    "    # Lemmatize the tokens\n",
    "    lemmatizer = WordNetLemmatizer()\n",
    "    lemmatized_tokens = [lemmatizer.lemmatize(token) for token in filtered_tokens]\n",
    "\n",
    "    return ' '.join(lemmatized_tokens)\n",
    "\n",
    "documents = [preprocess_text(doc) for doc in posts]\n",
    "data['text_new'] = np.array(documents)"
   ]
  },
  {
   "cell_type": "code",
   "execution_count": 8,
   "id": "3e2b2cee",
   "metadata": {},
   "outputs": [
    {
     "data": {
      "text/html": [
       "<div>\n",
       "<style scoped>\n",
       "    .dataframe tbody tr th:only-of-type {\n",
       "        vertical-align: middle;\n",
       "    }\n",
       "\n",
       "    .dataframe tbody tr th {\n",
       "        vertical-align: top;\n",
       "    }\n",
       "\n",
       "    .dataframe thead th {\n",
       "        text-align: right;\n",
       "    }\n",
       "</style>\n",
       "<table border=\"1\" class=\"dataframe\">\n",
       "  <thead>\n",
       "    <tr style=\"text-align: right;\">\n",
       "      <th></th>\n",
       "      <th>text</th>\n",
       "    </tr>\n",
       "    <tr>\n",
       "      <th>document</th>\n",
       "      <th></th>\n",
       "    </tr>\n",
       "  </thead>\n",
       "  <tbody>\n",
       "    <tr>\n",
       "      <th>Document 1</th>\n",
       "      <td>anybody photo shop simply cropping image pasti...</td>\n",
       "    </tr>\n",
       "    <tr>\n",
       "      <th>Document 2</th>\n",
       "      <td>question fellow amp filipino get hella nervous...</td>\n",
       "    </tr>\n",
       "    <tr>\n",
       "      <th>Document 3</th>\n",
       "      <td>merry christmas lt</td>\n",
       "    </tr>\n",
       "    <tr>\n",
       "      <th>Document 4</th>\n",
       "      <td>probably gon na end posted numorous time year ...</td>\n",
       "    </tr>\n",
       "    <tr>\n",
       "      <th>Document 5</th>\n",
       "      <td>waking back sleep dealing integrating lot smal...</td>\n",
       "    </tr>\n",
       "    <tr>\n",
       "      <th>...</th>\n",
       "      <td>...</td>\n",
       "    </tr>\n",
       "    <tr>\n",
       "      <th>Document 4996</th>\n",
       "      <td>must life cruel</td>\n",
       "    </tr>\n",
       "    <tr>\n",
       "      <th>Document 4997</th>\n",
       "      <td>know take much longeri feel awful several mont...</td>\n",
       "    </tr>\n",
       "    <tr>\n",
       "      <th>Document 4998</th>\n",
       "      <td>ofc always weekend wan na post pic video smh s...</td>\n",
       "    </tr>\n",
       "    <tr>\n",
       "      <th>Document 4999</th>\n",
       "      <td>child slinky similar relatively useless bring ...</td>\n",
       "    </tr>\n",
       "    <tr>\n",
       "      <th>Document 5000</th>\n",
       "      <td>gone im guess much get accomplished posting fu...</td>\n",
       "    </tr>\n",
       "  </tbody>\n",
       "</table>\n",
       "<p>5000 rows × 1 columns</p>\n",
       "</div>"
      ],
      "text/plain": [
       "                                                            text\n",
       "document                                                        \n",
       "Document 1     anybody photo shop simply cropping image pasti...\n",
       "Document 2     question fellow amp filipino get hella nervous...\n",
       "Document 3                                    merry christmas lt\n",
       "Document 4     probably gon na end posted numorous time year ...\n",
       "Document 5     waking back sleep dealing integrating lot smal...\n",
       "...                                                          ...\n",
       "Document 4996                                    must life cruel\n",
       "Document 4997  know take much longeri feel awful several mont...\n",
       "Document 4998  ofc always weekend wan na post pic video smh s...\n",
       "Document 4999  child slinky similar relatively useless bring ...\n",
       "Document 5000  gone im guess much get accomplished posting fu...\n",
       "\n",
       "[5000 rows x 1 columns]"
      ]
     },
     "execution_count": 8,
     "metadata": {},
     "output_type": "execute_result"
    }
   ],
   "source": [
    "pd.DataFrame({'document':[f'Document {i+1}' for i in range(len(documents))],\n",
    "             'text': documents}).set_index('document')"
   ]
  },
  {
   "cell_type": "markdown",
   "id": "fe3d6f0b",
   "metadata": {},
   "source": [
    "## 3. Sentiment Analysis"
   ]
  },
  {
   "cell_type": "code",
   "execution_count": 9,
   "id": "368bbb76",
   "metadata": {},
   "outputs": [],
   "source": [
    "data['polarity'] = data['text_new'].apply(lambda x: TextBlob(x).sentiment.polarity)\n",
    "data['subjectivity'] = data['text_new'].apply(lambda x: TextBlob(x).sentiment.subjectivity)"
   ]
  },
  {
   "cell_type": "markdown",
   "id": "ae380d0b",
   "metadata": {},
   "source": [
    "<h4> Based on results of sentiment analysis, suicide posts seem to be more negative, passive and subjective.</h4>"
   ]
  },
  {
   "cell_type": "markdown",
   "id": "971a0fb4",
   "metadata": {},
   "source": [
    "### 3.1 Polarity"
   ]
  },
  {
   "cell_type": "markdown",
   "id": "b7d43a76",
   "metadata": {},
   "source": [
    "<h4> The average polarity of suicide posts (-0.015) are significantly lower than non-suicide posts (0.030) at 1% significance level. This phenomenon indicates that suicide posts are more negative and more likely to hold passive attitude.</h4>"
   ]
  },
  {
   "cell_type": "code",
   "execution_count": 10,
   "id": "47a4e4ae",
   "metadata": {},
   "outputs": [
    {
     "data": {
      "text/plain": [
       "class\n",
       "non-suicide    0.029954\n",
       "suicide       -0.014565\n",
       "Name: polarity, dtype: float64"
      ]
     },
     "execution_count": 10,
     "metadata": {},
     "output_type": "execute_result"
    }
   ],
   "source": [
    "data.groupby('class').mean('polarity')['polarity']"
   ]
  },
  {
   "cell_type": "code",
   "execution_count": 11,
   "id": "6abe2a1e",
   "metadata": {},
   "outputs": [
    {
     "name": "stdout",
     "output_type": "stream",
     "text": [
      "z-statistics: 6.417\n",
      "p-value: 0.000\n"
     ]
    }
   ],
   "source": [
    "# Polarity\n",
    "test_res = ztest(data.loc[data['class'] == 'non-suicide', 'polarity'],\n",
    "                 data.loc[data['class'] == 'suicide', 'polarity'])\n",
    "\n",
    "print('z-statistics: {:.3f}'.format(test_res[0]))\n",
    "print('p-value: {:.3f}'.format(test_res[1]))"
   ]
  },
  {
   "cell_type": "code",
   "execution_count": 12,
   "id": "4664c550",
   "metadata": {},
   "outputs": [
    {
     "data": {
      "image/png": "[encoded data removed]",
      "text/plain": [
       "<Figure size 432x288 with 1 Axes>"
      ]
     },
     "metadata": {
      "needs_background": "light"
     },
     "output_type": "display_data"
    }
   ],
   "source": [
    "# Plot the distribution of polarity for suicide and non-suicide posts\n",
    "plt.rcParams.update({'font.size': 13})\n",
    "plt.hist(data.loc[data['class'] == 'suicide', 'polarity'], bins = 50, alpha = 0.8)\n",
    "plt.hist(data.loc[data['class'] == 'non-suicide', 'polarity'], bins = 50, alpha = 0.8)\n",
    "plt.legend(['suicide', 'non-suicide'])\n",
    "plt.title('Distribution of Polarity')\n",
    "plt.show()"
   ]
  },
  {
   "cell_type": "markdown",
   "id": "f3f3c303",
   "metadata": {},
   "source": [
    "### 3.2 Subjectivity"
   ]
  },
  {
   "cell_type": "markdown",
   "id": "56e66ae5",
   "metadata": {},
   "source": [
    "<h4> The average subjectivity of suicide posts (0.50) are significantly higher than non-suicide posts (0.47) at 1% significance level. This phenomenon indicates that suicide posts are more subjective. Their posts talk more about personal feelings and attitude. </h4>"
   ]
  },
  {
   "cell_type": "code",
   "execution_count": 13,
   "id": "4d90692e",
   "metadata": {},
   "outputs": [
    {
     "data": {
      "text/plain": [
       "class\n",
       "non-suicide    0.465975\n",
       "suicide        0.503387\n",
       "Name: subjectivity, dtype: float64"
      ]
     },
     "execution_count": 13,
     "metadata": {},
     "output_type": "execute_result"
    }
   ],
   "source": [
    "data.groupby('class').mean('subjectivity')['subjectivity']"
   ]
  },
  {
   "cell_type": "code",
   "execution_count": 14,
   "id": "fe50598d",
   "metadata": {},
   "outputs": [
    {
     "name": "stdout",
     "output_type": "stream",
     "text": [
      "z-statistics: -5.835\n",
      "p-value: 0.000\n"
     ]
    }
   ],
   "source": [
    "# Subjectivity\n",
    "from statsmodels.stats.weightstats import ztest\n",
    "\n",
    "test_res = ztest(data.loc[data['class'] == 'non-suicide', 'subjectivity'],\n",
    "                 data.loc[data['class'] == 'suicide', 'subjectivity'])\n",
    "\n",
    "print('z-statistics: {:.3f}'.format(test_res[0]))\n",
    "print('p-value: {:.3f}'.format(test_res[1]))"
   ]
  },
  {
   "cell_type": "code",
   "execution_count": 15,
   "id": "61ce972e",
   "metadata": {},
   "outputs": [
    {
     "data": {
      "image/png": "[encoded data removed]",
      "text/plain": [
       "<Figure size 432x288 with 1 Axes>"
      ]
     },
     "metadata": {
      "needs_background": "light"
     },
     "output_type": "display_data"
    }
   ],
   "source": [
    "# Plot the distribution of subjectivity for suicide and non-suicide posts\n",
    "plt.rcParams.update({'font.size': 13})\n",
    "plt.hist(data.loc[data['class'] == 'suicide', 'subjectivity'], bins = 50, alpha = 0.8)\n",
    "plt.hist(data.loc[data['class'] == 'non-suicide', 'subjectivity'], bins = 50, alpha = 0.8)\n",
    "plt.legend(['suicide', 'non-suicide'])\n",
    "plt.title('Distribution of Subjectivity')\n",
    "plt.show()"
   ]
  },
  {
   "cell_type": "markdown",
   "id": "b1a5569e",
   "metadata": {},
   "source": [
    "## 4. Create a TF-IDF Vectorizer"
   ]
  },
  {
   "cell_type": "code",
   "execution_count": 16,
   "id": "c7c77959",
   "metadata": {},
   "outputs": [],
   "source": [
    "# Create a TF-IDF Vectorizer\n",
    "extended_vectorizer = TfidfVectorizer()\n",
    "\n",
    "# Apply the vectorizer to the preprocessed dataset\n",
    "extended_tfidf_matrix = extended_vectorizer.fit_transform(documents)\n",
    "\n",
    "# Create a DataFrame for visualization\n",
    "extended_df = pd.DataFrame(extended_tfidf_matrix.toarray(), columns=extended_vectorizer.get_feature_names_out())\n",
    "extended_df['Document'] = [f'{i+1}' for i in range(len(documents))]\n",
    "extended_df = extended_df.set_index('Document')\n",
    "\n",
    "# Add polarity and subjectivity to the columns\n",
    "extended_df[['polarity','subjectivity']] = data[['polarity','subjectivity']].values"
   ]
  },
  {
   "cell_type": "code",
   "execution_count": 17,
   "id": "3b87b772",
   "metadata": {
    "scrolled": false
   },
   "outputs": [
    {
     "data": {
      "text/html": [
       "<div>\n",
       "<style scoped>\n",
       "    .dataframe tbody tr th:only-of-type {\n",
       "        vertical-align: middle;\n",
       "    }\n",
       "\n",
       "    .dataframe tbody tr th {\n",
       "        vertical-align: top;\n",
       "    }\n",
       "\n",
       "    .dataframe thead th {\n",
       "        text-align: right;\n",
       "    }\n",
       "</style>\n",
       "<table border=\"1\" class=\"dataframe\">\n",
       "  <thead>\n",
       "    <tr style=\"text-align: right;\">\n",
       "      <th></th>\n",
       "      <th>aaaa</th>\n",
       "      <th>aaaaa</th>\n",
       "      <th>aaaaaaaaa</th>\n",
       "      <th>aaaaaaaaaaa</th>\n",
       "      <th>aaaaaaaaaaaaaaaaaaaaaaaa</th>\n",
       "      <th>aaaaaaaaaaaaaaaaaaaaaaaaa</th>\n",
       "      <th>aaaaaaaaaaaaaaaaaaaaaaaaaaaaaaa</th>\n",
       "      <th>aaaaaaaaaaaaaaaaaaaaaaaaaaaaaaaaaaaaaaaa</th>\n",
       "      <th>aaaaaaaaaaaaaaaaaaaaaaaaaaaaaaaaaaaaaaaaaaaaaaaa</th>\n",
       "      <th>aaaaand</th>\n",
       "      <th>...</th>\n",
       "      <th>zing</th>\n",
       "      <th>zip</th>\n",
       "      <th>zoloft</th>\n",
       "      <th>zombie</th>\n",
       "      <th>zone</th>\n",
       "      <th>zoning</th>\n",
       "      <th>zoom</th>\n",
       "      <th>zora</th>\n",
       "      <th>polarity</th>\n",
       "      <th>subjectivity</th>\n",
       "    </tr>\n",
       "    <tr>\n",
       "      <th>Document</th>\n",
       "      <th></th>\n",
       "      <th></th>\n",
       "      <th></th>\n",
       "      <th></th>\n",
       "      <th></th>\n",
       "      <th></th>\n",
       "      <th></th>\n",
       "      <th></th>\n",
       "      <th></th>\n",
       "      <th></th>\n",
       "      <th></th>\n",
       "      <th></th>\n",
       "      <th></th>\n",
       "      <th></th>\n",
       "      <th></th>\n",
       "      <th></th>\n",
       "      <th></th>\n",
       "      <th></th>\n",
       "      <th></th>\n",
       "      <th></th>\n",
       "      <th></th>\n",
       "    </tr>\n",
       "  </thead>\n",
       "  <tbody>\n",
       "    <tr>\n",
       "      <th>1</th>\n",
       "      <td>0.0</td>\n",
       "      <td>0.0</td>\n",
       "      <td>0.0</td>\n",
       "      <td>0.0</td>\n",
       "      <td>0.0</td>\n",
       "      <td>0.0</td>\n",
       "      <td>0.0</td>\n",
       "      <td>0.0</td>\n",
       "      <td>0.0</td>\n",
       "      <td>0.0</td>\n",
       "      <td>...</td>\n",
       "      <td>0.0</td>\n",
       "      <td>0.0</td>\n",
       "      <td>0.0</td>\n",
       "      <td>0.0</td>\n",
       "      <td>0.0</td>\n",
       "      <td>0.0</td>\n",
       "      <td>0.0</td>\n",
       "      <td>0.0</td>\n",
       "      <td>-0.166667</td>\n",
       "      <td>0.511905</td>\n",
       "    </tr>\n",
       "    <tr>\n",
       "      <th>2</th>\n",
       "      <td>0.0</td>\n",
       "      <td>0.0</td>\n",
       "      <td>0.0</td>\n",
       "      <td>0.0</td>\n",
       "      <td>0.0</td>\n",
       "      <td>0.0</td>\n",
       "      <td>0.0</td>\n",
       "      <td>0.0</td>\n",
       "      <td>0.0</td>\n",
       "      <td>0.0</td>\n",
       "      <td>...</td>\n",
       "      <td>0.0</td>\n",
       "      <td>0.0</td>\n",
       "      <td>0.0</td>\n",
       "      <td>0.0</td>\n",
       "      <td>0.0</td>\n",
       "      <td>0.0</td>\n",
       "      <td>0.0</td>\n",
       "      <td>0.0</td>\n",
       "      <td>-0.100000</td>\n",
       "      <td>0.307143</td>\n",
       "    </tr>\n",
       "    <tr>\n",
       "      <th>3</th>\n",
       "      <td>0.0</td>\n",
       "      <td>0.0</td>\n",
       "      <td>0.0</td>\n",
       "      <td>0.0</td>\n",
       "      <td>0.0</td>\n",
       "      <td>0.0</td>\n",
       "      <td>0.0</td>\n",
       "      <td>0.0</td>\n",
       "      <td>0.0</td>\n",
       "      <td>0.0</td>\n",
       "      <td>...</td>\n",
       "      <td>0.0</td>\n",
       "      <td>0.0</td>\n",
       "      <td>0.0</td>\n",
       "      <td>0.0</td>\n",
       "      <td>0.0</td>\n",
       "      <td>0.0</td>\n",
       "      <td>0.0</td>\n",
       "      <td>0.0</td>\n",
       "      <td>0.000000</td>\n",
       "      <td>0.000000</td>\n",
       "    </tr>\n",
       "  </tbody>\n",
       "</table>\n",
       "<p>3 rows × 15949 columns</p>\n",
       "</div>"
      ],
      "text/plain": [
       "          aaaa  aaaaa  aaaaaaaaa  aaaaaaaaaaa  aaaaaaaaaaaaaaaaaaaaaaaa  \\\n",
       "Document                                                                  \n",
       "1          0.0    0.0        0.0          0.0                       0.0   \n",
       "2          0.0    0.0        0.0          0.0                       0.0   \n",
       "3          0.0    0.0        0.0          0.0                       0.0   \n",
       "\n",
       "          aaaaaaaaaaaaaaaaaaaaaaaaa  aaaaaaaaaaaaaaaaaaaaaaaaaaaaaaa  \\\n",
       "Document                                                               \n",
       "1                               0.0                              0.0   \n",
       "2                               0.0                              0.0   \n",
       "3                               0.0                              0.0   \n",
       "\n",
       "          aaaaaaaaaaaaaaaaaaaaaaaaaaaaaaaaaaaaaaaa  \\\n",
       "Document                                             \n",
       "1                                              0.0   \n",
       "2                                              0.0   \n",
       "3                                              0.0   \n",
       "\n",
       "          aaaaaaaaaaaaaaaaaaaaaaaaaaaaaaaaaaaaaaaaaaaaaaaa  aaaaand  ...  \\\n",
       "Document                                                             ...   \n",
       "1                                                      0.0      0.0  ...   \n",
       "2                                                      0.0      0.0  ...   \n",
       "3                                                      0.0      0.0  ...   \n",
       "\n",
       "          zing  zip  zoloft  zombie  zone  zoning  zoom  zora  polarity  \\\n",
       "Document                                                                  \n",
       "1          0.0  0.0     0.0     0.0   0.0     0.0   0.0   0.0 -0.166667   \n",
       "2          0.0  0.0     0.0     0.0   0.0     0.0   0.0   0.0 -0.100000   \n",
       "3          0.0  0.0     0.0     0.0   0.0     0.0   0.0   0.0  0.000000   \n",
       "\n",
       "          subjectivity  \n",
       "Document                \n",
       "1             0.511905  \n",
       "2             0.307143  \n",
       "3             0.000000  \n",
       "\n",
       "[3 rows x 15949 columns]"
      ]
     },
     "execution_count": 17,
     "metadata": {},
     "output_type": "execute_result"
    }
   ],
   "source": [
    "extended_df.head(3)"
   ]
  },
  {
   "cell_type": "markdown",
   "id": "46a53d26",
   "metadata": {},
   "source": [
    "## 5. Semantic Analysis"
   ]
  },
  {
   "cell_type": "markdown",
   "id": "06e49dd0",
   "metadata": {},
   "source": [
    "### 5.1 Semantic Analysis"
   ]
  },
  {
   "cell_type": "code",
   "execution_count": 18,
   "id": "615fb839",
   "metadata": {
    "scrolled": true
   },
   "outputs": [
    {
     "name": "stdout",
     "output_type": "stream",
     "text": [
      "Topics:\n",
      "Topic 0: 0.015*\"like\" + 0.009*\"get\" + 0.009*\"know\" + 0.008*\"would\" + 0.008*\"want\" + 0.007*\"one\" + 0.007*\"life\" + 0.007*\"year\"\n",
      "Topic 1: 0.014*\"want\" + 0.014*\"feel\" + 0.013*\"like\" + 0.012*\"know\" + 0.011*\"life\" + 0.010*\"time\" + 0.008*\"even\" + 0.007*\"friend\"\n"
     ]
    }
   ],
   "source": [
    "# Tokenize the comments and create a dictionary and a corpus\n",
    "tokenized_posts = [word_tokenize(post.lower()) for post in documents]\n",
    "dictionary = corpora.Dictionary(tokenized_posts)\n",
    "corpus = [dictionary.doc2bow(comment) for comment in tokenized_posts]\n",
    "\n",
    "# Train the LdaModel on the corpus\n",
    "lda_model = LdaModel(corpus=corpus, id2word=dictionary, num_topics=2, random_state=42)\n",
    "\n",
    "# Display the topics\n",
    "topics = lda_model.print_topics(num_words=8)\n",
    "print(\"Topics:\")\n",
    "for idx, topic in topics:\n",
    "    print(f\"Topic {idx}: {topic}\")"
   ]
  },
  {
   "cell_type": "markdown",
   "id": "d72777d7",
   "metadata": {},
   "source": [
    "### 5.2 Latent Semantic Analysis"
   ]
  },
  {
   "cell_type": "code",
   "execution_count": 19,
   "id": "fb2508ed",
   "metadata": {},
   "outputs": [
    {
     "data": {
      "text/html": [
       "<div>\n",
       "<style scoped>\n",
       "    .dataframe tbody tr th:only-of-type {\n",
       "        vertical-align: middle;\n",
       "    }\n",
       "\n",
       "    .dataframe tbody tr th {\n",
       "        vertical-align: top;\n",
       "    }\n",
       "\n",
       "    .dataframe thead th {\n",
       "        text-align: right;\n",
       "    }\n",
       "</style>\n",
       "<table border=\"1\" class=\"dataframe\">\n",
       "  <thead>\n",
       "    <tr style=\"text-align: right;\">\n",
       "      <th></th>\n",
       "      <th>topic_1</th>\n",
       "      <th>topic_2</th>\n",
       "      <th>class</th>\n",
       "    </tr>\n",
       "  </thead>\n",
       "  <tbody>\n",
       "    <tr>\n",
       "      <th>0</th>\n",
       "      <td>0.505398</td>\n",
       "      <td>-0.162613</td>\n",
       "      <td>non-suicide</td>\n",
       "    </tr>\n",
       "    <tr>\n",
       "      <th>1</th>\n",
       "      <td>0.326475</td>\n",
       "      <td>-0.098861</td>\n",
       "      <td>non-suicide</td>\n",
       "    </tr>\n",
       "    <tr>\n",
       "      <th>2</th>\n",
       "      <td>0.002473</td>\n",
       "      <td>0.001062</td>\n",
       "      <td>non-suicide</td>\n",
       "    </tr>\n",
       "  </tbody>\n",
       "</table>\n",
       "</div>"
      ],
      "text/plain": [
       "    topic_1   topic_2        class\n",
       "0  0.505398 -0.162613  non-suicide\n",
       "1  0.326475 -0.098861  non-suicide\n",
       "2  0.002473  0.001062  non-suicide"
      ]
     },
     "execution_count": 19,
     "metadata": {},
     "output_type": "execute_result"
    }
   ],
   "source": [
    "svd_model = TruncatedSVD(n_components=2, random_state=42)\n",
    "lsa_matrix = svd_model.fit_transform(extended_df.values)\n",
    "\n",
    "lsa_df = pd.DataFrame(lsa_matrix, columns=[\"topic_1\", \"topic_2\"])\n",
    "lsa_df = pd.concat([lsa_df, pd.DataFrame(data['class'].values, columns=['class'])], axis = 1)\n",
    "# lsa_df['topic'] = np.where(lsa_df['topic_1'] > lsa_df['topic_2'], 1, 2)\n",
    "lsa_df.head(3)"
   ]
  },
  {
   "cell_type": "code",
   "execution_count": 20,
   "id": "2682fcc6",
   "metadata": {},
   "outputs": [
    {
     "data": {
      "text/html": [
       "<div>\n",
       "<style scoped>\n",
       "    .dataframe tbody tr th:only-of-type {\n",
       "        vertical-align: middle;\n",
       "    }\n",
       "\n",
       "    .dataframe tbody tr th {\n",
       "        vertical-align: top;\n",
       "    }\n",
       "\n",
       "    .dataframe thead th {\n",
       "        text-align: right;\n",
       "    }\n",
       "</style>\n",
       "<table border=\"1\" class=\"dataframe\">\n",
       "  <thead>\n",
       "    <tr style=\"text-align: right;\">\n",
       "      <th></th>\n",
       "      <th>topic_1</th>\n",
       "      <th>topic_2</th>\n",
       "    </tr>\n",
       "    <tr>\n",
       "      <th>class</th>\n",
       "      <th></th>\n",
       "      <th></th>\n",
       "    </tr>\n",
       "  </thead>\n",
       "  <tbody>\n",
       "    <tr>\n",
       "      <th>non-suicide</th>\n",
       "      <td>0.474449</td>\n",
       "      <td>0.034739</td>\n",
       "    </tr>\n",
       "    <tr>\n",
       "      <th>suicide</th>\n",
       "      <td>0.547020</td>\n",
       "      <td>-0.008997</td>\n",
       "    </tr>\n",
       "  </tbody>\n",
       "</table>\n",
       "</div>"
      ],
      "text/plain": [
       "              topic_1   topic_2\n",
       "class                          \n",
       "non-suicide  0.474449  0.034739\n",
       "suicide      0.547020 -0.008997"
      ]
     },
     "execution_count": 20,
     "metadata": {},
     "output_type": "execute_result"
    }
   ],
   "source": [
    "lsa_df.groupby('class').mean()"
   ]
  },
  {
   "cell_type": "code",
   "execution_count": 21,
   "id": "b57015c1",
   "metadata": {},
   "outputs": [
    {
     "name": "stdout",
     "output_type": "stream",
     "text": [
      "z-statistics: -11.561\n",
      "p-value: 0.000\n"
     ]
    }
   ],
   "source": [
    "# Topic1\n",
    "test_res = ztest(lsa_df.loc[lsa_df['class'] == 'non-suicide', 'topic_1'],\n",
    "                 lsa_df.loc[lsa_df['class'] == 'suicide', 'topic_1'])\n",
    "\n",
    "print('z-statistics: {:.3f}'.format(test_res[0]))\n",
    "print('p-value: {:.3f}'.format(test_res[1]))"
   ]
  },
  {
   "cell_type": "code",
   "execution_count": 22,
   "id": "be9af90f",
   "metadata": {},
   "outputs": [
    {
     "name": "stdout",
     "output_type": "stream",
     "text": [
      "z-statistics: 6.252\n",
      "p-value: 0.000\n"
     ]
    }
   ],
   "source": [
    "# Topic1\n",
    "test_res = ztest(lsa_df.loc[lsa_df['class'] == 'non-suicide', 'topic_2'],\n",
    "                 lsa_df.loc[lsa_df['class'] == 'suicide', 'topic_2'])\n",
    "\n",
    "print('z-statistics: {:.3f}'.format(test_res[0]))\n",
    "print('p-value: {:.3f}'.format(test_res[1]))"
   ]
  },
  {
   "cell_type": "code",
   "execution_count": 23,
   "id": "7818beea",
   "metadata": {},
   "outputs": [
    {
     "data": {
      "image/png": "[encoded data removed]",
      "text/plain": [
       "<Figure size 432x288 with 1 Axes>"
      ]
     },
     "metadata": {
      "needs_background": "light"
     },
     "output_type": "display_data"
    }
   ],
   "source": [
    "plt.rcParams.update({'font.size': 13})\n",
    "plt.hist(lsa_df.loc[lsa_df['class'] == 'suicide', 'topic_1'], bins = 50, alpha = 0.8)\n",
    "plt.hist(lsa_df.loc[lsa_df['class'] == 'non-suicide', 'topic_1'], bins = 50, alpha = 0.8)\n",
    "plt.legend(['suicide', 'non-suicide'])\n",
    "plt.title('Distribution of Topic 1 Weights')\n",
    "plt.show()"
   ]
  },
  {
   "cell_type": "code",
   "execution_count": 24,
   "id": "37723cdd",
   "metadata": {},
   "outputs": [
    {
     "data": {
      "image/png": "[encoded data removed]",
      "text/plain": [
       "<Figure size 432x288 with 1 Axes>"
      ]
     },
     "metadata": {
      "needs_background": "light"
     },
     "output_type": "display_data"
    }
   ],
   "source": [
    "plt.rcParams.update({'font.size': 13})\n",
    "plt.hist(lsa_df.loc[lsa_df['class'] == 'suicide', 'topic_2'], bins = 50, alpha = 0.8)\n",
    "plt.hist(lsa_df.loc[lsa_df['class'] == 'non-suicide', 'topic_2'], bins = 50, alpha = 0.8)\n",
    "plt.legend(['suicide', 'non-suicide'])\n",
    "plt.title('Distribution of Topic 2 Weights')\n",
    "plt.show()"
   ]
  },
  {
   "cell_type": "code",
   "execution_count": 25,
   "id": "7bd54827",
   "metadata": {},
   "outputs": [],
   "source": [
    "# plt.figure(figsize=(10, 8))\n",
    "# sns.heatmap(extended_df.values, annot=True, fmt=\".2f\", cmap=\"YlGnBu\", xticklabels=extended_df.columns, yticklabels=[\"Doc \" + str(i) for i in range(1, len(extended_df) + 1)])\n",
    "# plt.title('TF-IDF Term-Document Matrix')\n",
    "# plt.show()"
   ]
  },
  {
   "cell_type": "markdown",
   "id": "a8aba274",
   "metadata": {},
   "source": [
    "## 6. Model Implementation"
   ]
  },
  {
   "cell_type": "markdown",
   "id": "5153369d",
   "metadata": {},
   "source": [
    "### 6.1 PCA"
   ]
  },
  {
   "cell_type": "code",
   "execution_count": 26,
   "id": "4ecd9492",
   "metadata": {},
   "outputs": [
    {
     "data": {
      "text/html": [
       "<div>\n",
       "<style scoped>\n",
       "    .dataframe tbody tr th:only-of-type {\n",
       "        vertical-align: middle;\n",
       "    }\n",
       "\n",
       "    .dataframe tbody tr th {\n",
       "        vertical-align: top;\n",
       "    }\n",
       "\n",
       "    .dataframe thead th {\n",
       "        text-align: right;\n",
       "    }\n",
       "</style>\n",
       "<table border=\"1\" class=\"dataframe\">\n",
       "  <thead>\n",
       "    <tr style=\"text-align: right;\">\n",
       "      <th></th>\n",
       "      <th>PC1</th>\n",
       "      <th>PC2</th>\n",
       "      <th>PC3</th>\n",
       "      <th>PC4</th>\n",
       "      <th>PC5</th>\n",
       "      <th>PC6</th>\n",
       "      <th>PC7</th>\n",
       "      <th>PC8</th>\n",
       "      <th>PC9</th>\n",
       "      <th>PC10</th>\n",
       "    </tr>\n",
       "    <tr>\n",
       "      <th>feature</th>\n",
       "      <th></th>\n",
       "      <th></th>\n",
       "      <th></th>\n",
       "      <th></th>\n",
       "      <th></th>\n",
       "      <th></th>\n",
       "      <th></th>\n",
       "      <th></th>\n",
       "      <th></th>\n",
       "      <th></th>\n",
       "    </tr>\n",
       "  </thead>\n",
       "  <tbody>\n",
       "    <tr>\n",
       "      <th>aaaa</th>\n",
       "      <td>0.000319</td>\n",
       "      <td>-0.000457</td>\n",
       "      <td>-0.000870</td>\n",
       "      <td>-0.000257</td>\n",
       "      <td>-0.000118</td>\n",
       "      <td>-0.000356</td>\n",
       "      <td>0.000528</td>\n",
       "      <td>0.000010</td>\n",
       "      <td>-0.000387</td>\n",
       "      <td>0.000044</td>\n",
       "    </tr>\n",
       "    <tr>\n",
       "      <th>aaaaa</th>\n",
       "      <td>-0.000477</td>\n",
       "      <td>0.000318</td>\n",
       "      <td>-0.000457</td>\n",
       "      <td>-0.000471</td>\n",
       "      <td>0.002645</td>\n",
       "      <td>-0.001185</td>\n",
       "      <td>-0.000367</td>\n",
       "      <td>-0.000762</td>\n",
       "      <td>0.002158</td>\n",
       "      <td>0.000047</td>\n",
       "    </tr>\n",
       "    <tr>\n",
       "      <th>aaaaaaaaa</th>\n",
       "      <td>0.000385</td>\n",
       "      <td>-0.000311</td>\n",
       "      <td>-0.000530</td>\n",
       "      <td>-0.000101</td>\n",
       "      <td>-0.000074</td>\n",
       "      <td>-0.000234</td>\n",
       "      <td>-0.001291</td>\n",
       "      <td>0.000210</td>\n",
       "      <td>0.003547</td>\n",
       "      <td>0.000474</td>\n",
       "    </tr>\n",
       "    <tr>\n",
       "      <th>aaaaaaaaaaa</th>\n",
       "      <td>-0.000240</td>\n",
       "      <td>-0.000071</td>\n",
       "      <td>-0.000198</td>\n",
       "      <td>-0.000105</td>\n",
       "      <td>-0.000579</td>\n",
       "      <td>-0.001094</td>\n",
       "      <td>0.000782</td>\n",
       "      <td>-0.000199</td>\n",
       "      <td>0.000297</td>\n",
       "      <td>-0.000222</td>\n",
       "    </tr>\n",
       "    <tr>\n",
       "      <th>aaaaaaaaaaaaaaaaaaaaaaaa</th>\n",
       "      <td>0.000456</td>\n",
       "      <td>0.001999</td>\n",
       "      <td>-0.000794</td>\n",
       "      <td>-0.000845</td>\n",
       "      <td>-0.001176</td>\n",
       "      <td>0.000708</td>\n",
       "      <td>0.000144</td>\n",
       "      <td>-0.000944</td>\n",
       "      <td>0.000425</td>\n",
       "      <td>-0.001564</td>\n",
       "    </tr>\n",
       "  </tbody>\n",
       "</table>\n",
       "</div>"
      ],
      "text/plain": [
       "                               PC1       PC2       PC3       PC4       PC5  \\\n",
       "feature                                                                      \n",
       "aaaa                      0.000319 -0.000457 -0.000870 -0.000257 -0.000118   \n",
       "aaaaa                    -0.000477  0.000318 -0.000457 -0.000471  0.002645   \n",
       "aaaaaaaaa                 0.000385 -0.000311 -0.000530 -0.000101 -0.000074   \n",
       "aaaaaaaaaaa              -0.000240 -0.000071 -0.000198 -0.000105 -0.000579   \n",
       "aaaaaaaaaaaaaaaaaaaaaaaa  0.000456  0.001999 -0.000794 -0.000845 -0.001176   \n",
       "\n",
       "                               PC6       PC7       PC8       PC9      PC10  \n",
       "feature                                                                     \n",
       "aaaa                     -0.000356  0.000528  0.000010 -0.000387  0.000044  \n",
       "aaaaa                    -0.001185 -0.000367 -0.000762  0.002158  0.000047  \n",
       "aaaaaaaaa                -0.000234 -0.001291  0.000210  0.003547  0.000474  \n",
       "aaaaaaaaaaa              -0.001094  0.000782 -0.000199  0.000297 -0.000222  \n",
       "aaaaaaaaaaaaaaaaaaaaaaaa  0.000708  0.000144 -0.000944  0.000425 -0.001564  "
      ]
     },
     "execution_count": 26,
     "metadata": {},
     "output_type": "execute_result"
    }
   ],
   "source": [
    "pca = PCA(n_components=10)\n",
    "X_pca = pca.fit_transform(normalize(extended_df.values))\n",
    "\n",
    "# Get the loadings (components)\n",
    "loadings = pca.components_\n",
    "pc = pd.DataFrame(loadings.transpose(), columns = ['PC{}'.format(x) for x in range(1,loadings.shape[0]+1)])\n",
    "pc['feature'] = extended_df.columns\n",
    "pc.set_index('feature', inplace = True)\n",
    "# The loadings are stored in the 'components_' attribute\n",
    "pc.head()"
   ]
  },
  {
   "cell_type": "code",
   "execution_count": 27,
   "id": "c41f5145",
   "metadata": {},
   "outputs": [
    {
     "data": {
      "text/html": [
       "<div>\n",
       "<style scoped>\n",
       "    .dataframe tbody tr th:only-of-type {\n",
       "        vertical-align: middle;\n",
       "    }\n",
       "\n",
       "    .dataframe tbody tr th {\n",
       "        vertical-align: top;\n",
       "    }\n",
       "\n",
       "    .dataframe thead th {\n",
       "        text-align: right;\n",
       "    }\n",
       "</style>\n",
       "<table border=\"1\" class=\"dataframe\">\n",
       "  <thead>\n",
       "    <tr style=\"text-align: right;\">\n",
       "      <th></th>\n",
       "      <th>PC1</th>\n",
       "      <th>PC2</th>\n",
       "      <th>PC3</th>\n",
       "      <th>PC4</th>\n",
       "      <th>PC5</th>\n",
       "      <th>PC6</th>\n",
       "      <th>PC7</th>\n",
       "      <th>PC8</th>\n",
       "      <th>PC9</th>\n",
       "      <th>PC10</th>\n",
       "    </tr>\n",
       "    <tr>\n",
       "      <th>feature</th>\n",
       "      <th></th>\n",
       "      <th></th>\n",
       "      <th></th>\n",
       "      <th></th>\n",
       "      <th></th>\n",
       "      <th></th>\n",
       "      <th></th>\n",
       "      <th></th>\n",
       "      <th></th>\n",
       "      <th></th>\n",
       "    </tr>\n",
       "  </thead>\n",
       "  <tbody>\n",
       "    <tr>\n",
       "      <th>polarity</th>\n",
       "      <td>0.941870</td>\n",
       "      <td>-0.302236</td>\n",
       "      <td>-0.003037</td>\n",
       "      <td>0.013658</td>\n",
       "      <td>0.036826</td>\n",
       "      <td>0.031279</td>\n",
       "      <td>-0.014993</td>\n",
       "      <td>-0.023470</td>\n",
       "      <td>0.011243</td>\n",
       "      <td>-0.006281</td>\n",
       "    </tr>\n",
       "    <tr>\n",
       "      <th>good</th>\n",
       "      <td>0.028840</td>\n",
       "      <td>-0.037111</td>\n",
       "      <td>0.037571</td>\n",
       "      <td>0.007204</td>\n",
       "      <td>0.003752</td>\n",
       "      <td>-0.024021</td>\n",
       "      <td>-0.034414</td>\n",
       "      <td>-0.008068</td>\n",
       "      <td>0.012247</td>\n",
       "      <td>0.016786</td>\n",
       "    </tr>\n",
       "    <tr>\n",
       "      <th>best</th>\n",
       "      <td>0.025977</td>\n",
       "      <td>-0.014461</td>\n",
       "      <td>0.040366</td>\n",
       "      <td>0.007659</td>\n",
       "      <td>0.000336</td>\n",
       "      <td>-0.030773</td>\n",
       "      <td>-0.020128</td>\n",
       "      <td>0.030200</td>\n",
       "      <td>-0.006174</td>\n",
       "      <td>0.001419</td>\n",
       "    </tr>\n",
       "    <tr>\n",
       "      <th>love</th>\n",
       "      <td>0.017413</td>\n",
       "      <td>-0.031949</td>\n",
       "      <td>0.054982</td>\n",
       "      <td>0.014069</td>\n",
       "      <td>0.014909</td>\n",
       "      <td>0.027455</td>\n",
       "      <td>-0.033272</td>\n",
       "      <td>-0.021057</td>\n",
       "      <td>-0.032061</td>\n",
       "      <td>0.016327</td>\n",
       "    </tr>\n",
       "    <tr>\n",
       "      <th>http</th>\n",
       "      <td>0.017174</td>\n",
       "      <td>0.038028</td>\n",
       "      <td>-0.056182</td>\n",
       "      <td>-0.039041</td>\n",
       "      <td>-0.047951</td>\n",
       "      <td>0.004943</td>\n",
       "      <td>0.022947</td>\n",
       "      <td>-0.055815</td>\n",
       "      <td>-0.179321</td>\n",
       "      <td>0.848201</td>\n",
       "    </tr>\n",
       "    <tr>\n",
       "      <th>happy</th>\n",
       "      <td>0.012599</td>\n",
       "      <td>-0.035908</td>\n",
       "      <td>0.034958</td>\n",
       "      <td>0.014514</td>\n",
       "      <td>0.014171</td>\n",
       "      <td>0.010753</td>\n",
       "      <td>-0.015243</td>\n",
       "      <td>-0.027558</td>\n",
       "      <td>0.037218</td>\n",
       "      <td>0.013862</td>\n",
       "    </tr>\n",
       "    <tr>\n",
       "      <th>first</th>\n",
       "      <td>0.012103</td>\n",
       "      <td>-0.011942</td>\n",
       "      <td>0.027395</td>\n",
       "      <td>0.000938</td>\n",
       "      <td>-0.019780</td>\n",
       "      <td>-0.069188</td>\n",
       "      <td>-0.010410</td>\n",
       "      <td>0.018783</td>\n",
       "      <td>-0.002002</td>\n",
       "      <td>0.000466</td>\n",
       "    </tr>\n",
       "    <tr>\n",
       "      <th>guy</th>\n",
       "      <td>0.012026</td>\n",
       "      <td>0.006429</td>\n",
       "      <td>-0.012465</td>\n",
       "      <td>-0.017246</td>\n",
       "      <td>0.027422</td>\n",
       "      <td>-0.070354</td>\n",
       "      <td>0.067431</td>\n",
       "      <td>0.102563</td>\n",
       "      <td>0.018460</td>\n",
       "      <td>-0.033478</td>\n",
       "    </tr>\n",
       "    <tr>\n",
       "      <th>great</th>\n",
       "      <td>0.011692</td>\n",
       "      <td>-0.013903</td>\n",
       "      <td>0.009393</td>\n",
       "      <td>0.001623</td>\n",
       "      <td>0.006215</td>\n",
       "      <td>-0.018692</td>\n",
       "      <td>-0.009493</td>\n",
       "      <td>-0.000585</td>\n",
       "      <td>-0.001443</td>\n",
       "      <td>0.000021</td>\n",
       "    </tr>\n",
       "    <tr>\n",
       "      <th>song</th>\n",
       "      <td>0.011661</td>\n",
       "      <td>0.004376</td>\n",
       "      <td>-0.024235</td>\n",
       "      <td>-0.005581</td>\n",
       "      <td>-0.004551</td>\n",
       "      <td>0.005127</td>\n",
       "      <td>0.017637</td>\n",
       "      <td>-0.030402</td>\n",
       "      <td>-0.015955</td>\n",
       "      <td>0.100504</td>\n",
       "    </tr>\n",
       "  </tbody>\n",
       "</table>\n",
       "</div>"
      ],
      "text/plain": [
       "               PC1       PC2       PC3       PC4       PC5       PC6  \\\n",
       "feature                                                                \n",
       "polarity  0.941870 -0.302236 -0.003037  0.013658  0.036826  0.031279   \n",
       "good      0.028840 -0.037111  0.037571  0.007204  0.003752 -0.024021   \n",
       "best      0.025977 -0.014461  0.040366  0.007659  0.000336 -0.030773   \n",
       "love      0.017413 -0.031949  0.054982  0.014069  0.014909  0.027455   \n",
       "http      0.017174  0.038028 -0.056182 -0.039041 -0.047951  0.004943   \n",
       "happy     0.012599 -0.035908  0.034958  0.014514  0.014171  0.010753   \n",
       "first     0.012103 -0.011942  0.027395  0.000938 -0.019780 -0.069188   \n",
       "guy       0.012026  0.006429 -0.012465 -0.017246  0.027422 -0.070354   \n",
       "great     0.011692 -0.013903  0.009393  0.001623  0.006215 -0.018692   \n",
       "song      0.011661  0.004376 -0.024235 -0.005581 -0.004551  0.005127   \n",
       "\n",
       "               PC7       PC8       PC9      PC10  \n",
       "feature                                           \n",
       "polarity -0.014993 -0.023470  0.011243 -0.006281  \n",
       "good     -0.034414 -0.008068  0.012247  0.016786  \n",
       "best     -0.020128  0.030200 -0.006174  0.001419  \n",
       "love     -0.033272 -0.021057 -0.032061  0.016327  \n",
       "http      0.022947 -0.055815 -0.179321  0.848201  \n",
       "happy    -0.015243 -0.027558  0.037218  0.013862  \n",
       "first    -0.010410  0.018783 -0.002002  0.000466  \n",
       "guy       0.067431  0.102563  0.018460 -0.033478  \n",
       "great    -0.009493 -0.000585 -0.001443  0.000021  \n",
       "song      0.017637 -0.030402 -0.015955  0.100504  "
      ]
     },
     "execution_count": 27,
     "metadata": {},
     "output_type": "execute_result"
    }
   ],
   "source": [
    "pc.sort_values('PC1', ascending = False).head(10)"
   ]
  },
  {
   "cell_type": "code",
   "execution_count": 28,
   "id": "2deaaa43",
   "metadata": {},
   "outputs": [
    {
     "data": {
      "text/html": [
       "<div>\n",
       "<style scoped>\n",
       "    .dataframe tbody tr th:only-of-type {\n",
       "        vertical-align: middle;\n",
       "    }\n",
       "\n",
       "    .dataframe tbody tr th {\n",
       "        vertical-align: top;\n",
       "    }\n",
       "\n",
       "    .dataframe thead th {\n",
       "        text-align: right;\n",
       "    }\n",
       "</style>\n",
       "<table border=\"1\" class=\"dataframe\">\n",
       "  <thead>\n",
       "    <tr style=\"text-align: right;\">\n",
       "      <th></th>\n",
       "      <th>PC1</th>\n",
       "      <th>PC2</th>\n",
       "      <th>PC3</th>\n",
       "      <th>PC4</th>\n",
       "      <th>PC5</th>\n",
       "      <th>PC6</th>\n",
       "      <th>PC7</th>\n",
       "      <th>PC8</th>\n",
       "      <th>PC9</th>\n",
       "      <th>PC10</th>\n",
       "    </tr>\n",
       "    <tr>\n",
       "      <th>feature</th>\n",
       "      <th></th>\n",
       "      <th></th>\n",
       "      <th></th>\n",
       "      <th></th>\n",
       "      <th></th>\n",
       "      <th></th>\n",
       "      <th></th>\n",
       "      <th></th>\n",
       "      <th></th>\n",
       "      <th></th>\n",
       "    </tr>\n",
       "  </thead>\n",
       "  <tbody>\n",
       "    <tr>\n",
       "      <th>subjectivity</th>\n",
       "      <td>-0.299029</td>\n",
       "      <td>-0.928905</td>\n",
       "      <td>-0.168007</td>\n",
       "      <td>0.024186</td>\n",
       "      <td>0.023099</td>\n",
       "      <td>-0.011452</td>\n",
       "      <td>0.006093</td>\n",
       "      <td>0.020011</td>\n",
       "      <td>-0.019392</td>\n",
       "      <td>0.024423</td>\n",
       "    </tr>\n",
       "    <tr>\n",
       "      <th>hate</th>\n",
       "      <td>-0.048396</td>\n",
       "      <td>-0.016381</td>\n",
       "      <td>0.036943</td>\n",
       "      <td>0.007424</td>\n",
       "      <td>-0.006580</td>\n",
       "      <td>0.048639</td>\n",
       "      <td>0.002229</td>\n",
       "      <td>-0.049962</td>\n",
       "      <td>-0.009752</td>\n",
       "      <td>0.007081</td>\n",
       "    </tr>\n",
       "    <tr>\n",
       "      <th>fucking</th>\n",
       "      <td>-0.047887</td>\n",
       "      <td>-0.022638</td>\n",
       "      <td>0.031169</td>\n",
       "      <td>0.005221</td>\n",
       "      <td>-0.022430</td>\n",
       "      <td>0.057428</td>\n",
       "      <td>-0.108075</td>\n",
       "      <td>-0.059342</td>\n",
       "      <td>0.015176</td>\n",
       "      <td>-0.016828</td>\n",
       "    </tr>\n",
       "    <tr>\n",
       "      <th>fuck</th>\n",
       "      <td>-0.037365</td>\n",
       "      <td>-0.008092</td>\n",
       "      <td>-0.004160</td>\n",
       "      <td>-0.011936</td>\n",
       "      <td>-0.011585</td>\n",
       "      <td>0.010939</td>\n",
       "      <td>-0.067846</td>\n",
       "      <td>-0.055857</td>\n",
       "      <td>0.029121</td>\n",
       "      <td>-0.038478</td>\n",
       "    </tr>\n",
       "    <tr>\n",
       "      <th>tired</th>\n",
       "      <td>-0.025868</td>\n",
       "      <td>-0.011980</td>\n",
       "      <td>0.029717</td>\n",
       "      <td>0.002691</td>\n",
       "      <td>0.008855</td>\n",
       "      <td>0.045876</td>\n",
       "      <td>-0.052805</td>\n",
       "      <td>-0.011046</td>\n",
       "      <td>0.003998</td>\n",
       "      <td>-0.013099</td>\n",
       "    </tr>\n",
       "    <tr>\n",
       "      <th>bad</th>\n",
       "      <td>-0.022524</td>\n",
       "      <td>-0.008420</td>\n",
       "      <td>0.039536</td>\n",
       "      <td>0.006668</td>\n",
       "      <td>0.019562</td>\n",
       "      <td>-0.029193</td>\n",
       "      <td>0.011014</td>\n",
       "      <td>0.028402</td>\n",
       "      <td>0.008902</td>\n",
       "      <td>0.009388</td>\n",
       "    </tr>\n",
       "    <tr>\n",
       "      <th>shit</th>\n",
       "      <td>-0.022307</td>\n",
       "      <td>-0.022706</td>\n",
       "      <td>0.022802</td>\n",
       "      <td>0.005843</td>\n",
       "      <td>-0.000639</td>\n",
       "      <td>-0.001653</td>\n",
       "      <td>-0.032872</td>\n",
       "      <td>-0.051298</td>\n",
       "      <td>0.020679</td>\n",
       "      <td>-0.009419</td>\n",
       "    </tr>\n",
       "    <tr>\n",
       "      <th>want</th>\n",
       "      <td>-0.020559</td>\n",
       "      <td>-0.019907</td>\n",
       "      <td>0.213399</td>\n",
       "      <td>0.035375</td>\n",
       "      <td>0.102803</td>\n",
       "      <td>0.579314</td>\n",
       "      <td>-0.014385</td>\n",
       "      <td>0.089844</td>\n",
       "      <td>-0.020568</td>\n",
       "      <td>-0.041065</td>\n",
       "    </tr>\n",
       "    <tr>\n",
       "      <th>feel</th>\n",
       "      <td>-0.019106</td>\n",
       "      <td>-0.040288</td>\n",
       "      <td>0.257449</td>\n",
       "      <td>0.061936</td>\n",
       "      <td>0.044386</td>\n",
       "      <td>0.083927</td>\n",
       "      <td>0.462215</td>\n",
       "      <td>-0.259508</td>\n",
       "      <td>0.139737</td>\n",
       "      <td>0.051587</td>\n",
       "    </tr>\n",
       "    <tr>\n",
       "      <th>wan</th>\n",
       "      <td>-0.018863</td>\n",
       "      <td>0.032258</td>\n",
       "      <td>-0.012890</td>\n",
       "      <td>-0.055015</td>\n",
       "      <td>0.529126</td>\n",
       "      <td>-0.098809</td>\n",
       "      <td>-0.064190</td>\n",
       "      <td>-0.104316</td>\n",
       "      <td>-0.120328</td>\n",
       "      <td>-0.006551</td>\n",
       "    </tr>\n",
       "  </tbody>\n",
       "</table>\n",
       "</div>"
      ],
      "text/plain": [
       "                   PC1       PC2       PC3       PC4       PC5       PC6  \\\n",
       "feature                                                                    \n",
       "subjectivity -0.299029 -0.928905 -0.168007  0.024186  0.023099 -0.011452   \n",
       "hate         -0.048396 -0.016381  0.036943  0.007424 -0.006580  0.048639   \n",
       "fucking      -0.047887 -0.022638  0.031169  0.005221 -0.022430  0.057428   \n",
       "fuck         -0.037365 -0.008092 -0.004160 -0.011936 -0.011585  0.010939   \n",
       "tired        -0.025868 -0.011980  0.029717  0.002691  0.008855  0.045876   \n",
       "bad          -0.022524 -0.008420  0.039536  0.006668  0.019562 -0.029193   \n",
       "shit         -0.022307 -0.022706  0.022802  0.005843 -0.000639 -0.001653   \n",
       "want         -0.020559 -0.019907  0.213399  0.035375  0.102803  0.579314   \n",
       "feel         -0.019106 -0.040288  0.257449  0.061936  0.044386  0.083927   \n",
       "wan          -0.018863  0.032258 -0.012890 -0.055015  0.529126 -0.098809   \n",
       "\n",
       "                   PC7       PC8       PC9      PC10  \n",
       "feature                                               \n",
       "subjectivity  0.006093  0.020011 -0.019392  0.024423  \n",
       "hate          0.002229 -0.049962 -0.009752  0.007081  \n",
       "fucking      -0.108075 -0.059342  0.015176 -0.016828  \n",
       "fuck         -0.067846 -0.055857  0.029121 -0.038478  \n",
       "tired        -0.052805 -0.011046  0.003998 -0.013099  \n",
       "bad           0.011014  0.028402  0.008902  0.009388  \n",
       "shit         -0.032872 -0.051298  0.020679 -0.009419  \n",
       "want         -0.014385  0.089844 -0.020568 -0.041065  \n",
       "feel          0.462215 -0.259508  0.139737  0.051587  \n",
       "wan          -0.064190 -0.104316 -0.120328 -0.006551  "
      ]
     },
     "execution_count": 28,
     "metadata": {},
     "output_type": "execute_result"
    }
   ],
   "source": [
    "pc.sort_values('PC1', ascending = True).head(10)"
   ]
  },
  {
   "cell_type": "code",
   "execution_count": 29,
   "id": "e27708b8",
   "metadata": {},
   "outputs": [
    {
     "data": {
      "text/html": [
       "<div>\n",
       "<style scoped>\n",
       "    .dataframe tbody tr th:only-of-type {\n",
       "        vertical-align: middle;\n",
       "    }\n",
       "\n",
       "    .dataframe tbody tr th {\n",
       "        vertical-align: top;\n",
       "    }\n",
       "\n",
       "    .dataframe thead th {\n",
       "        text-align: right;\n",
       "    }\n",
       "</style>\n",
       "<table border=\"1\" class=\"dataframe\">\n",
       "  <thead>\n",
       "    <tr style=\"text-align: right;\">\n",
       "      <th></th>\n",
       "      <th>PC1</th>\n",
       "      <th>PC2</th>\n",
       "      <th>PC3</th>\n",
       "      <th>PC4</th>\n",
       "      <th>PC5</th>\n",
       "      <th>PC6</th>\n",
       "      <th>PC7</th>\n",
       "      <th>PC8</th>\n",
       "      <th>PC9</th>\n",
       "      <th>PC10</th>\n",
       "    </tr>\n",
       "    <tr>\n",
       "      <th>feature</th>\n",
       "      <th></th>\n",
       "      <th></th>\n",
       "      <th></th>\n",
       "      <th></th>\n",
       "      <th></th>\n",
       "      <th></th>\n",
       "      <th></th>\n",
       "      <th></th>\n",
       "      <th></th>\n",
       "      <th></th>\n",
       "    </tr>\n",
       "  </thead>\n",
       "  <tbody>\n",
       "    <tr>\n",
       "      <th>filler</th>\n",
       "      <td>0.002077</td>\n",
       "      <td>0.061976</td>\n",
       "      <td>-0.169192</td>\n",
       "      <td>0.974890</td>\n",
       "      <td>0.080090</td>\n",
       "      <td>-0.025093</td>\n",
       "      <td>-0.013796</td>\n",
       "      <td>0.022005</td>\n",
       "      <td>-0.018368</td>\n",
       "      <td>0.026832</td>\n",
       "    </tr>\n",
       "    <tr>\n",
       "      <th>http</th>\n",
       "      <td>0.017174</td>\n",
       "      <td>0.038028</td>\n",
       "      <td>-0.056182</td>\n",
       "      <td>-0.039041</td>\n",
       "      <td>-0.047951</td>\n",
       "      <td>0.004943</td>\n",
       "      <td>0.022947</td>\n",
       "      <td>-0.055815</td>\n",
       "      <td>-0.179321</td>\n",
       "      <td>0.848201</td>\n",
       "    </tr>\n",
       "    <tr>\n",
       "      <th>wan</th>\n",
       "      <td>-0.018863</td>\n",
       "      <td>0.032258</td>\n",
       "      <td>-0.012890</td>\n",
       "      <td>-0.055015</td>\n",
       "      <td>0.529126</td>\n",
       "      <td>-0.098809</td>\n",
       "      <td>-0.064190</td>\n",
       "      <td>-0.104316</td>\n",
       "      <td>-0.120328</td>\n",
       "      <td>-0.006551</td>\n",
       "    </tr>\n",
       "    <tr>\n",
       "      <th>na</th>\n",
       "      <td>-0.016562</td>\n",
       "      <td>0.025807</td>\n",
       "      <td>-0.007892</td>\n",
       "      <td>-0.061824</td>\n",
       "      <td>0.652040</td>\n",
       "      <td>-0.137096</td>\n",
       "      <td>-0.133556</td>\n",
       "      <td>-0.165767</td>\n",
       "      <td>-0.077957</td>\n",
       "      <td>0.000809</td>\n",
       "    </tr>\n",
       "    <tr>\n",
       "      <th>please</th>\n",
       "      <td>-0.000067</td>\n",
       "      <td>0.013107</td>\n",
       "      <td>0.008085</td>\n",
       "      <td>-0.020174</td>\n",
       "      <td>0.044602</td>\n",
       "      <td>0.097349</td>\n",
       "      <td>0.028738</td>\n",
       "      <td>0.307414</td>\n",
       "      <td>-0.085419</td>\n",
       "      <td>0.022750</td>\n",
       "    </tr>\n",
       "    <tr>\n",
       "      <th>pog</th>\n",
       "      <td>0.002039</td>\n",
       "      <td>0.010600</td>\n",
       "      <td>-0.007427</td>\n",
       "      <td>-0.006828</td>\n",
       "      <td>-0.009919</td>\n",
       "      <td>-0.002289</td>\n",
       "      <td>0.002266</td>\n",
       "      <td>-0.008914</td>\n",
       "      <td>0.002543</td>\n",
       "      <td>-0.012061</td>\n",
       "    </tr>\n",
       "    <tr>\n",
       "      <th>back</th>\n",
       "      <td>0.001061</td>\n",
       "      <td>0.008241</td>\n",
       "      <td>0.073032</td>\n",
       "      <td>0.009191</td>\n",
       "      <td>-0.024516</td>\n",
       "      <td>-0.071616</td>\n",
       "      <td>-0.043469</td>\n",
       "      <td>-0.018488</td>\n",
       "      <td>0.033020</td>\n",
       "      <td>-0.019203</td>\n",
       "    </tr>\n",
       "    <tr>\n",
       "      <th>horny</th>\n",
       "      <td>-0.003342</td>\n",
       "      <td>0.008004</td>\n",
       "      <td>-0.015385</td>\n",
       "      <td>-0.010672</td>\n",
       "      <td>0.004060</td>\n",
       "      <td>-0.001562</td>\n",
       "      <td>0.004512</td>\n",
       "      <td>-0.008708</td>\n",
       "      <td>0.012786</td>\n",
       "      <td>-0.017180</td>\n",
       "    </tr>\n",
       "    <tr>\n",
       "      <th>bruh</th>\n",
       "      <td>-0.000125</td>\n",
       "      <td>0.007812</td>\n",
       "      <td>-0.010198</td>\n",
       "      <td>-0.008021</td>\n",
       "      <td>-0.004094</td>\n",
       "      <td>-0.007792</td>\n",
       "      <td>0.025989</td>\n",
       "      <td>-0.016957</td>\n",
       "      <td>0.010745</td>\n",
       "      <td>0.006048</td>\n",
       "    </tr>\n",
       "    <tr>\n",
       "      <th>among</th>\n",
       "      <td>-0.000051</td>\n",
       "      <td>0.007718</td>\n",
       "      <td>-0.007411</td>\n",
       "      <td>0.002475</td>\n",
       "      <td>0.004098</td>\n",
       "      <td>-0.009886</td>\n",
       "      <td>0.005652</td>\n",
       "      <td>0.000813</td>\n",
       "      <td>-0.008061</td>\n",
       "      <td>0.010227</td>\n",
       "    </tr>\n",
       "  </tbody>\n",
       "</table>\n",
       "</div>"
      ],
      "text/plain": [
       "              PC1       PC2       PC3       PC4       PC5       PC6       PC7  \\\n",
       "feature                                                                         \n",
       "filler   0.002077  0.061976 -0.169192  0.974890  0.080090 -0.025093 -0.013796   \n",
       "http     0.017174  0.038028 -0.056182 -0.039041 -0.047951  0.004943  0.022947   \n",
       "wan     -0.018863  0.032258 -0.012890 -0.055015  0.529126 -0.098809 -0.064190   \n",
       "na      -0.016562  0.025807 -0.007892 -0.061824  0.652040 -0.137096 -0.133556   \n",
       "please  -0.000067  0.013107  0.008085 -0.020174  0.044602  0.097349  0.028738   \n",
       "pog      0.002039  0.010600 -0.007427 -0.006828 -0.009919 -0.002289  0.002266   \n",
       "back     0.001061  0.008241  0.073032  0.009191 -0.024516 -0.071616 -0.043469   \n",
       "horny   -0.003342  0.008004 -0.015385 -0.010672  0.004060 -0.001562  0.004512   \n",
       "bruh    -0.000125  0.007812 -0.010198 -0.008021 -0.004094 -0.007792  0.025989   \n",
       "among   -0.000051  0.007718 -0.007411  0.002475  0.004098 -0.009886  0.005652   \n",
       "\n",
       "              PC8       PC9      PC10  \n",
       "feature                                \n",
       "filler   0.022005 -0.018368  0.026832  \n",
       "http    -0.055815 -0.179321  0.848201  \n",
       "wan     -0.104316 -0.120328 -0.006551  \n",
       "na      -0.165767 -0.077957  0.000809  \n",
       "please   0.307414 -0.085419  0.022750  \n",
       "pog     -0.008914  0.002543 -0.012061  \n",
       "back    -0.018488  0.033020 -0.019203  \n",
       "horny   -0.008708  0.012786 -0.017180  \n",
       "bruh    -0.016957  0.010745  0.006048  \n",
       "among    0.000813 -0.008061  0.010227  "
      ]
     },
     "execution_count": 29,
     "metadata": {},
     "output_type": "execute_result"
    }
   ],
   "source": [
    "pc.sort_values('PC2', ascending = False).head(10)"
   ]
  },
  {
   "cell_type": "code",
   "execution_count": 30,
   "id": "b7a96261",
   "metadata": {},
   "outputs": [
    {
     "data": {
      "text/html": [
       "<div>\n",
       "<style scoped>\n",
       "    .dataframe tbody tr th:only-of-type {\n",
       "        vertical-align: middle;\n",
       "    }\n",
       "\n",
       "    .dataframe tbody tr th {\n",
       "        vertical-align: top;\n",
       "    }\n",
       "\n",
       "    .dataframe thead th {\n",
       "        text-align: right;\n",
       "    }\n",
       "</style>\n",
       "<table border=\"1\" class=\"dataframe\">\n",
       "  <thead>\n",
       "    <tr style=\"text-align: right;\">\n",
       "      <th></th>\n",
       "      <th>PC1</th>\n",
       "      <th>PC2</th>\n",
       "      <th>PC3</th>\n",
       "      <th>PC4</th>\n",
       "      <th>PC5</th>\n",
       "      <th>PC6</th>\n",
       "      <th>PC7</th>\n",
       "      <th>PC8</th>\n",
       "      <th>PC9</th>\n",
       "      <th>PC10</th>\n",
       "    </tr>\n",
       "    <tr>\n",
       "      <th>feature</th>\n",
       "      <th></th>\n",
       "      <th></th>\n",
       "      <th></th>\n",
       "      <th></th>\n",
       "      <th></th>\n",
       "      <th></th>\n",
       "      <th></th>\n",
       "      <th></th>\n",
       "      <th></th>\n",
       "      <th></th>\n",
       "    </tr>\n",
       "  </thead>\n",
       "  <tbody>\n",
       "    <tr>\n",
       "      <th>subjectivity</th>\n",
       "      <td>-0.299029</td>\n",
       "      <td>-0.928905</td>\n",
       "      <td>-0.168007</td>\n",
       "      <td>0.024186</td>\n",
       "      <td>0.023099</td>\n",
       "      <td>-0.011452</td>\n",
       "      <td>0.006093</td>\n",
       "      <td>0.020011</td>\n",
       "      <td>-0.019392</td>\n",
       "      <td>0.024423</td>\n",
       "    </tr>\n",
       "    <tr>\n",
       "      <th>polarity</th>\n",
       "      <td>0.941870</td>\n",
       "      <td>-0.302236</td>\n",
       "      <td>-0.003037</td>\n",
       "      <td>0.013658</td>\n",
       "      <td>0.036826</td>\n",
       "      <td>0.031279</td>\n",
       "      <td>-0.014993</td>\n",
       "      <td>-0.023470</td>\n",
       "      <td>0.011243</td>\n",
       "      <td>-0.006281</td>\n",
       "    </tr>\n",
       "    <tr>\n",
       "      <th>feel</th>\n",
       "      <td>-0.019106</td>\n",
       "      <td>-0.040288</td>\n",
       "      <td>0.257449</td>\n",
       "      <td>0.061936</td>\n",
       "      <td>0.044386</td>\n",
       "      <td>0.083927</td>\n",
       "      <td>0.462215</td>\n",
       "      <td>-0.259508</td>\n",
       "      <td>0.139737</td>\n",
       "      <td>0.051587</td>\n",
       "    </tr>\n",
       "    <tr>\n",
       "      <th>good</th>\n",
       "      <td>0.028840</td>\n",
       "      <td>-0.037111</td>\n",
       "      <td>0.037571</td>\n",
       "      <td>0.007204</td>\n",
       "      <td>0.003752</td>\n",
       "      <td>-0.024021</td>\n",
       "      <td>-0.034414</td>\n",
       "      <td>-0.008068</td>\n",
       "      <td>0.012247</td>\n",
       "      <td>0.016786</td>\n",
       "    </tr>\n",
       "    <tr>\n",
       "      <th>happy</th>\n",
       "      <td>0.012599</td>\n",
       "      <td>-0.035908</td>\n",
       "      <td>0.034958</td>\n",
       "      <td>0.014514</td>\n",
       "      <td>0.014171</td>\n",
       "      <td>0.010753</td>\n",
       "      <td>-0.015243</td>\n",
       "      <td>-0.027558</td>\n",
       "      <td>0.037218</td>\n",
       "      <td>0.013862</td>\n",
       "    </tr>\n",
       "    <tr>\n",
       "      <th>life</th>\n",
       "      <td>-0.015980</td>\n",
       "      <td>-0.032470</td>\n",
       "      <td>0.173909</td>\n",
       "      <td>0.037806</td>\n",
       "      <td>-0.030089</td>\n",
       "      <td>0.074676</td>\n",
       "      <td>-0.196924</td>\n",
       "      <td>-0.160815</td>\n",
       "      <td>-0.042913</td>\n",
       "      <td>0.038713</td>\n",
       "    </tr>\n",
       "    <tr>\n",
       "      <th>love</th>\n",
       "      <td>0.017413</td>\n",
       "      <td>-0.031949</td>\n",
       "      <td>0.054982</td>\n",
       "      <td>0.014069</td>\n",
       "      <td>0.014909</td>\n",
       "      <td>0.027455</td>\n",
       "      <td>-0.033272</td>\n",
       "      <td>-0.021057</td>\n",
       "      <td>-0.032061</td>\n",
       "      <td>0.016327</td>\n",
       "    </tr>\n",
       "    <tr>\n",
       "      <th>people</th>\n",
       "      <td>-0.007331</td>\n",
       "      <td>-0.026903</td>\n",
       "      <td>0.107879</td>\n",
       "      <td>0.011837</td>\n",
       "      <td>0.029402</td>\n",
       "      <td>-0.013914</td>\n",
       "      <td>0.016828</td>\n",
       "      <td>0.017887</td>\n",
       "      <td>-0.053094</td>\n",
       "      <td>0.040073</td>\n",
       "    </tr>\n",
       "    <tr>\n",
       "      <th>like</th>\n",
       "      <td>-0.013169</td>\n",
       "      <td>-0.026400</td>\n",
       "      <td>0.201748</td>\n",
       "      <td>0.036840</td>\n",
       "      <td>0.054026</td>\n",
       "      <td>-0.086425</td>\n",
       "      <td>0.558863</td>\n",
       "      <td>-0.243421</td>\n",
       "      <td>0.182005</td>\n",
       "      <td>0.007541</td>\n",
       "    </tr>\n",
       "    <tr>\n",
       "      <th>know</th>\n",
       "      <td>-0.001472</td>\n",
       "      <td>-0.026258</td>\n",
       "      <td>0.200579</td>\n",
       "      <td>0.036156</td>\n",
       "      <td>0.073943</td>\n",
       "      <td>0.088834</td>\n",
       "      <td>0.098824</td>\n",
       "      <td>0.203403</td>\n",
       "      <td>-0.057116</td>\n",
       "      <td>0.031456</td>\n",
       "    </tr>\n",
       "  </tbody>\n",
       "</table>\n",
       "</div>"
      ],
      "text/plain": [
       "                   PC1       PC2       PC3       PC4       PC5       PC6  \\\n",
       "feature                                                                    \n",
       "subjectivity -0.299029 -0.928905 -0.168007  0.024186  0.023099 -0.011452   \n",
       "polarity      0.941870 -0.302236 -0.003037  0.013658  0.036826  0.031279   \n",
       "feel         -0.019106 -0.040288  0.257449  0.061936  0.044386  0.083927   \n",
       "good          0.028840 -0.037111  0.037571  0.007204  0.003752 -0.024021   \n",
       "happy         0.012599 -0.035908  0.034958  0.014514  0.014171  0.010753   \n",
       "life         -0.015980 -0.032470  0.173909  0.037806 -0.030089  0.074676   \n",
       "love          0.017413 -0.031949  0.054982  0.014069  0.014909  0.027455   \n",
       "people       -0.007331 -0.026903  0.107879  0.011837  0.029402 -0.013914   \n",
       "like         -0.013169 -0.026400  0.201748  0.036840  0.054026 -0.086425   \n",
       "know         -0.001472 -0.026258  0.200579  0.036156  0.073943  0.088834   \n",
       "\n",
       "                   PC7       PC8       PC9      PC10  \n",
       "feature                                               \n",
       "subjectivity  0.006093  0.020011 -0.019392  0.024423  \n",
       "polarity     -0.014993 -0.023470  0.011243 -0.006281  \n",
       "feel          0.462215 -0.259508  0.139737  0.051587  \n",
       "good         -0.034414 -0.008068  0.012247  0.016786  \n",
       "happy        -0.015243 -0.027558  0.037218  0.013862  \n",
       "life         -0.196924 -0.160815 -0.042913  0.038713  \n",
       "love         -0.033272 -0.021057 -0.032061  0.016327  \n",
       "people        0.016828  0.017887 -0.053094  0.040073  \n",
       "like          0.558863 -0.243421  0.182005  0.007541  \n",
       "know          0.098824  0.203403 -0.057116  0.031456  "
      ]
     },
     "execution_count": 30,
     "metadata": {},
     "output_type": "execute_result"
    }
   ],
   "source": [
    "pc.sort_values('PC2', ascending = True).head(10)"
   ]
  },
  {
   "cell_type": "code",
   "execution_count": 31,
   "id": "e44a8d47",
   "metadata": {},
   "outputs": [
    {
     "data": {
      "image/png": "[encoded data removed]",
      "text/plain": [
       "<Figure size 720x432 with 1 Axes>"
      ]
     },
     "metadata": {
      "needs_background": "light"
     },
     "output_type": "display_data"
    }
   ],
   "source": [
    "pc.sort_values('PC1', ascending = False)[['PC1', 'PC2', 'PC3']][1:11].plot.bar(figsize = (10,6))\n",
    "plt.axline((0,0), (9,0), linestyle='--', color='grey', label='Line through Points')\n",
    "plt.xticks(rotation = 0)\n",
    "plt.title('Word Weights in PCs (Descending Order of PC1)')\n",
    "plt.xlabel('')\n",
    "plt.show()"
   ]
  },
  {
   "cell_type": "code",
   "execution_count": 32,
   "id": "04855d39",
   "metadata": {},
   "outputs": [
    {
     "data": {
      "image/png": "[encoded data removed]",
      "text/plain": [
       "<Figure size 720x432 with 1 Axes>"
      ]
     },
     "metadata": {
      "needs_background": "light"
     },
     "output_type": "display_data"
    }
   ],
   "source": [
    "pc.sort_values('PC1', ascending = True)[['PC1', 'PC2', 'PC3']][1:11].plot.bar(figsize = (10,6))\n",
    "plt.axline((0,0), (9,0), linestyle='--', color='grey', label='Line through Points')\n",
    "plt.xticks(rotation = 0)\n",
    "plt.title('Word Weights in PCs (Ascending Order of PC1)')\n",
    "plt.xlabel('')\n",
    "plt.show()"
   ]
  },
  {
   "cell_type": "markdown",
   "id": "10d16bdb",
   "metadata": {},
   "source": [
    "### 6.2 Naive Bayes"
   ]
  },
  {
   "cell_type": "code",
   "execution_count": 33,
   "id": "fb7971a1",
   "metadata": {},
   "outputs": [],
   "source": [
    "# Split the training and testing data\n",
    "X_train, X_test, y_train, y_test = train_test_split(extended_df, Y, test_size=0.2, random_state=30, stratify = Y)"
   ]
  },
  {
   "cell_type": "code",
   "execution_count": 34,
   "id": "299da97a",
   "metadata": {},
   "outputs": [
    {
     "name": "stdout",
     "output_type": "stream",
     "text": [
      "Training Accuracy: 0.86775\n",
      "Testing Accuracy: 0.793\n",
      "              precision    recall  f1-score   support\n",
      "\n",
      "           0       0.98      0.59      0.74       494\n",
      "           1       0.71      0.99      0.83       506\n",
      "\n",
      "    accuracy                           0.79      1000\n",
      "   macro avg       0.85      0.79      0.78      1000\n",
      "weighted avg       0.85      0.79      0.78      1000\n",
      "\n",
      "Confusion Matrix:\n",
      "[[292 202]\n",
      " [  5 501]]\n"
     ]
    }
   ],
   "source": [
    "model = MultinomialNB()\n",
    "model.fit(X_train.iloc[:, :-2], y_train)\n",
    "\n",
    "# Predict and evaluate\n",
    "y_pred = model.predict(X_test.iloc[:, :-2])\n",
    "print('Training Accuracy:', accuracy_score(y_train, model.predict(X_train.iloc[:, :-2])))\n",
    "print(\"Testing Accuracy:\", accuracy_score(y_test, y_pred))\n",
    "print(classification_report(y_test, y_pred))\n",
    "\n",
    "print('Confusion Matrix:')\n",
    "print(confusion_matrix(y_test, y_pred))"
   ]
  },
  {
   "cell_type": "code",
   "execution_count": 35,
   "id": "f38cc805",
   "metadata": {},
   "outputs": [
    {
     "data": {
      "text/plain": [
       "array([[292, 202],\n",
       "       [  5, 501]])"
      ]
     },
     "execution_count": 35,
     "metadata": {},
     "output_type": "execute_result"
    }
   ],
   "source": [
    "confusion_matrix(y_test, y_pred)"
   ]
  },
  {
   "cell_type": "markdown",
   "id": "f3484757",
   "metadata": {},
   "source": [
    "### 6.3 Random Forest"
   ]
  },
  {
   "cell_type": "code",
   "execution_count": 36,
   "id": "3d0b6beb",
   "metadata": {},
   "outputs": [
    {
     "name": "stdout",
     "output_type": "stream",
     "text": [
      "Training Accuracy: 0.848\n",
      "Testing Accuracy: 0.839\n",
      "              precision    recall  f1-score   support\n",
      "\n",
      "           0       0.82      0.86      0.84       494\n",
      "           1       0.86      0.81      0.84       506\n",
      "\n",
      "    accuracy                           0.84      1000\n",
      "   macro avg       0.84      0.84      0.84      1000\n",
      "weighted avg       0.84      0.84      0.84      1000\n",
      "\n",
      "Confusion Matrix:\n",
      "[[427  67]\n",
      " [ 94 412]]\n"
     ]
    }
   ],
   "source": [
    "model = RandomForestClassifier(min_samples_leaf = 15, min_samples_split = 10)\n",
    "\n",
    "model.fit(X_train, y_train)\n",
    "\n",
    "# Predict and evaluate\n",
    "y_pred = model.predict(X_test)\n",
    "print('Training Accuracy:', accuracy_score(y_train, model.predict(X_train)))\n",
    "print(\"Testing Accuracy:\", accuracy_score(y_test, y_pred))\n",
    "print(classification_report(y_test, y_pred))\n",
    "\n",
    "print('Confusion Matrix:')\n",
    "print(confusion_matrix(y_test, y_pred))"
   ]
  },
  {
   "cell_type": "code",
   "execution_count": 37,
   "id": "bd29cd17",
   "metadata": {},
   "outputs": [
    {
     "data": {
      "text/plain": [
       "array([[427,  67],\n",
       "       [ 94, 412]])"
      ]
     },
     "execution_count": 37,
     "metadata": {},
     "output_type": "execute_result"
    }
   ],
   "source": [
    "confusion_matrix(y_test, y_pred)"
   ]
  },
  {
   "cell_type": "markdown",
   "id": "9e0e8c4d",
   "metadata": {},
   "source": [
    "### 6.4 XGBoost"
   ]
  },
  {
   "cell_type": "code",
   "execution_count": 38,
   "id": "7475136a",
   "metadata": {
    "scrolled": false
   },
   "outputs": [
    {
     "name": "stdout",
     "output_type": "stream",
     "text": [
      "Training Accuracy: 0.9425\n",
      "Testing Accuracy: 0.885\n",
      "              precision    recall  f1-score   support\n",
      "\n",
      "           0       0.87      0.90      0.89       494\n",
      "           1       0.90      0.87      0.88       506\n",
      "\n",
      "    accuracy                           0.89      1000\n",
      "   macro avg       0.89      0.89      0.88      1000\n",
      "weighted avg       0.89      0.89      0.88      1000\n",
      "\n",
      "Confusion Matrix:\n",
      "[[446  48]\n",
      " [ 67 439]]\n"
     ]
    }
   ],
   "source": [
    "model = xgb.XGBClassifier(max_depth = 3)\n",
    "\n",
    "model.fit(X_train, y_train)\n",
    "\n",
    "# Predict and evaluate\n",
    "y_pred = model.predict(X_test)\n",
    "print('Training Accuracy:', accuracy_score(y_train, model.predict(X_train)))\n",
    "print(\"Testing Accuracy:\", accuracy_score(y_test, y_pred))\n",
    "print(classification_report(y_test, y_pred))\n",
    "\n",
    "print('Confusion Matrix:')\n",
    "print(confusion_matrix(y_test, y_pred))"
   ]
  },
  {
   "cell_type": "code",
   "execution_count": 39,
   "id": "6ba299dd",
   "metadata": {
    "scrolled": false
   },
   "outputs": [
    {
     "data": {
      "image/png": "[encoded data removed]",
      "text/plain": [
       "<Figure size 1152x432 with 1 Axes>"
      ]
     },
     "metadata": {
      "needs_background": "light"
     },
     "output_type": "display_data"
    }
   ],
   "source": [
    "# Constrcut feature importance metrics\n",
    "importances = pd.DataFrame({'feature': extended_df.columns,'importance': model.feature_importances_})\n",
    "\n",
    "# Leave features with importance > 0\n",
    "feature_importances = importances[importances['importance'] > 0].sort_values('importance', ascending = False)\n",
    "colors = ['#ff7f0e'  if x in [0,1,2,3,6, 9, 11, 12] else '#1f77b4' for x in range(15)]\n",
    "fig, ax = plt.subplots(figsize = (16,6))\n",
    "ax.bar(feature_importances['feature'][:15], feature_importances['importance'][:15].values, color = colors)\n",
    "plt.xticks(rotation = 0)\n",
    "plt.ylabel('Importance', fontsize = 14)\n",
    "plt.title('Words Importance', fontsize = 16)\n",
    "# for label in [0,1,2,3,6]:\n",
    "#     ax.get_xticklabels()[label].set_color(\"#ff7f0e\")\n",
    "\n",
    "plt.show()"
   ]
  },
  {
   "cell_type": "markdown",
   "id": "17f7645d",
   "metadata": {},
   "source": [
    "### 6.5 Neural Network"
   ]
  },
  {
   "cell_type": "code",
   "execution_count": 40,
   "id": "d33d56f5",
   "metadata": {},
   "outputs": [
    {
     "name": "stderr",
     "output_type": "stream",
     "text": [
      "/Users/shfovt/opt/anaconda3/lib/python3.9/site-packages/sklearn/neural_network/_multilayer_perceptron.py:692: ConvergenceWarning: Stochastic Optimizer: Maximum iterations (200) reached and the optimization hasn't converged yet.\n",
      "  warnings.warn(\n"
     ]
    },
    {
     "name": "stdout",
     "output_type": "stream",
     "text": [
      "Training Accuracy: 0.99825\n",
      "Testing Accuracy: 0.888\n",
      "              precision    recall  f1-score   support\n",
      "\n",
      "           0       0.88      0.89      0.89       494\n",
      "           1       0.89      0.89      0.89       506\n",
      "\n",
      "    accuracy                           0.89      1000\n",
      "   macro avg       0.89      0.89      0.89      1000\n",
      "weighted avg       0.89      0.89      0.89      1000\n",
      "\n",
      "Confusion Matrix:\n",
      "[[440  54]\n",
      " [ 58 448]]\n"
     ]
    }
   ],
   "source": [
    "model = MLPClassifier(hidden_layer_sizes=(3,3,3), learning_rate = 'constant',random_state=1)\n",
    "model.fit(X_train, y_train)\n",
    "\n",
    "# Predict and evaluate\n",
    "y_pred = model.predict(X_test)\n",
    "print('Training Accuracy:', accuracy_score(y_train, model.predict(X_train)))\n",
    "print(\"Testing Accuracy:\", accuracy_score(y_test, y_pred))\n",
    "print(classification_report(y_test, y_pred))\n",
    "\n",
    "print('Confusion Matrix:')\n",
    "print(confusion_matrix(y_test, y_pred))"
   ]
  },
  {
   "cell_type": "code",
   "execution_count": 41,
   "id": "27ed2211",
   "metadata": {},
   "outputs": [
    {
     "name": "stdout",
     "output_type": "stream",
     "text": [
      "Training Accuracy: 0.92375\n",
      "Testing Accuracy: 0.852\n",
      "              precision    recall  f1-score   support\n",
      "\n",
      "           0       0.86      0.84      0.85       494\n",
      "           1       0.85      0.86      0.85       506\n",
      "\n",
      "    accuracy                           0.85      1000\n",
      "   macro avg       0.85      0.85      0.85      1000\n",
      "weighted avg       0.85      0.85      0.85      1000\n",
      "\n",
      "Confusion Matrix:\n",
      "[[416  78]\n",
      " [ 70 436]]\n"
     ]
    }
   ],
   "source": [
    "X_train, X_test, y_train, y_test = train_test_split(X_pca, Y, test_size=0.2, random_state=30, stratify = Y)\n",
    "\n",
    "model = xgb.XGBClassifier(max_depth = 3)\n",
    "\n",
    "model.fit(X_train, y_train)\n",
    "\n",
    "# Predict and evaluate\n",
    "y_pred = model.predict(X_test)\n",
    "print('Training Accuracy:', accuracy_score(y_train, model.predict(X_train)))\n",
    "print(\"Testing Accuracy:\", accuracy_score(y_test, y_pred))\n",
    "print(classification_report(y_test, y_pred))\n",
    "\n",
    "print('Confusion Matrix:')\n",
    "print(confusion_matrix(y_test, y_pred))"
   ]
  },
  {
   "cell_type": "code",
   "execution_count": null,
   "id": "4da35733",
   "metadata": {},
   "outputs": [],
   "source": []
  }
 ],
 "metadata": {
  "kernelspec": {
   "display_name": "Python 3 (ipykernel)",
   "language": "python",
   "name": "python3"
  },
  "language_info": {
   "codemirror_mode": {
    "name": "ipython",
    "version": 3
   },
   "file_extension": ".py",
   "mimetype": "text/x-python",
   "name": "python",
   "nbconvert_exporter": "python",
   "pygments_lexer": "ipython3",
   "version": "3.9.12"
  }
 },
 "nbformat": 4,
 "nbformat_minor": 5
}
